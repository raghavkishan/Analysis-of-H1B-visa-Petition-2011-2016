{
 "cells": [
  {
   "cell_type": "markdown",
   "metadata": {},
   "source": [
    "From the H1b Dataset(Kaggle), I have extracted 10,000 records for each yer from 2011 to 2016. Thus obtaining a file contaning approximately 50,000 records. I have peformed the following analysis on these records."
   ]
  },
  {
   "cell_type": "markdown",
   "metadata": {},
   "source": [
    "And what is your conclusion? Why the difference in pay between years? \n",
    "90/100"
   ]
  },
  {
   "cell_type": "code",
   "execution_count": 27,
   "metadata": {
    "collapsed": true
   },
   "outputs": [],
   "source": [
    "import org.apache.spark.sql.types.{StructField, StructType, StringType, DoubleType, IntegerType}\n",
    "import org.apache.spark.sql.types._\n",
    "import org.apache.spark.sql.functions._\n",
    "import org.apache.spark.SparkContext\n",
    "import org.apache.spark.sql.DataFrameReader\n",
    "import org.apache.spark.sql.functions.col\n",
    "import org.apache.spark.sql.DataFrameNaFunctions\n",
    "import org.apache.spark.sql.Row"
   ]
  },
  {
   "cell_type": "code",
   "execution_count": 28,
   "metadata": {
    "collapsed": true
   },
   "outputs": [],
   "source": [
    "val reader = spark.read\n",
    "val h1bDataset = reader.format(\"csv\").option(\"mode\", \"DROPMALFORMED\").option(\"header\", true).option(\"inferschema\", true).load(\"h1bMainData.csv\")"
   ]
  },
  {
   "cell_type": "markdown",
   "metadata": {},
   "source": [
    "Average prevailing wage per Case Status"
   ]
  },
  {
   "cell_type": "code",
   "execution_count": 29,
   "metadata": {},
   "outputs": [
    {
     "name": "stdout",
     "output_type": "stream",
     "text": [
      "+-------------------+--------------------+\n",
      "|        CASE_STATUS|avg(PREVAILING_WAGE)|\n",
      "+-------------------+--------------------+\n",
      "|          CERTIFIED|   83420.48211992513|\n",
      "|CERTIFIED-WITHDRAWN|    77771.1352598951|\n",
      "|             DENIED|  2465554.1185589903|\n",
      "|          WITHDRAWN|  238952.42759812542|\n",
      "+-------------------+--------------------+\n",
      "\n"
     ]
    }
   ],
   "source": [
    "val groupedByCaseStatus = h1bDataset.groupBy(\"CASE_STATUS\")\n",
    "groupedByCaseStatus.mean(\"PREVAILING_WAGE\").orderBy((\"CASE_STATUS\")).show()"
   ]
  },
  {
   "cell_type": "markdown",
   "metadata": {},
   "source": [
    "Average prevailing wage every yer"
   ]
  },
  {
   "cell_type": "code",
   "execution_count": 30,
   "metadata": {},
   "outputs": [
    {
     "name": "stdout",
     "output_type": "stream",
     "text": [
      "+----+--------------------+\n",
      "|YEAR|avg(PREVAILING_WAGE)|\n",
      "+----+--------------------+\n",
      "|2011|   252915.9142289999|\n",
      "|2012|  172116.59001100092|\n",
      "|2013|  226841.96623699993|\n",
      "|2014|  173976.71686568667|\n",
      "|2015|   92397.47360299979|\n",
      "|2016|   153655.2437943793|\n",
      "+----+--------------------+\n",
      "\n"
     ]
    }
   ],
   "source": [
    "val groupedByYear = h1bDataset.groupBy(\"YEAR\")\n",
    "groupedByYear.mean(\"PREVAILING_WAGE\").orderBy((\"YEAR\")).show"
   ]
  },
  {
   "cell_type": "markdown",
   "metadata": {},
   "source": [
    "Average prevailing wage with respect to full time position\n",
    "Note:\n",
    "- Y = Full time position\n",
    "- N = Part time position"
   ]
  },
  {
   "cell_type": "code",
   "execution_count": 31,
   "metadata": {},
   "outputs": [
    {
     "name": "stdout",
     "output_type": "stream",
     "text": [
      "\r",
      "                                                                                \r",
      "+------------------+--------------------+\n",
      "|FULL_TIME_POSITION|avg(PREVAILING_WAGE)|\n",
      "+------------------+--------------------+\n",
      "|                 N|  136849.45489757918|\n",
      "|                 Y|    181023.520126288|\n",
      "+------------------+--------------------+\n",
      "\n"
     ]
    }
   ],
   "source": [
    "val groupedFullTimePartTime = h1bDataset.groupBy(\"FULL_TIME_POSITION\")\n",
    "groupedFullTimePartTime.mean(\"PREVAILING_WAGE\").orderBy((\"FULL_TIME_POSITION\")).show"
   ]
  },
  {
   "cell_type": "markdown",
   "metadata": {},
   "source": [
    "Average Prevailing Wage w.r.t type of full time positions for CERTIFIED cases Note:\n",
    "- Y = Full time position\n",
    "- N = Part time position"
   ]
  },
  {
   "cell_type": "code",
   "execution_count": 32,
   "metadata": {},
   "outputs": [
    {
     "name": "stdout",
     "output_type": "stream",
     "text": [
      "\r",
      "                                                                                \r",
      "+------------------+--------------------+\n",
      "|FULL_TIME_POSITION|avg(PREVAILING_WAGE)|\n",
      "+------------------+--------------------+\n",
      "|                 N|   60937.57960516335|\n",
      "|                 Y|   84624.99681989217|\n",
      "+------------------+--------------------+\n",
      "\n"
     ]
    }
   ],
   "source": [
    "val filteredForCertified = h1bDataset.where(\"CASE_STATUS == 'CERTIFIED'\")\n",
    "val groupedFullTimePartTimeCertified = filteredForCertified.groupBy(\"FULL_TIME_POSITION\")\n",
    "groupedFullTimePartTimeCertified.mean(\"PREVAILING_WAGE\").orderBy((\"FULL_TIME_POSITION\")).show"
   ]
  },
  {
   "cell_type": "markdown",
   "metadata": {},
   "source": [
    "Average Prevailing Wage w.r.t type of full time positions for CERTIFIED-WITHDRAWN cases Note:\n",
    "- Y = Full time position\n",
    "- N = Part time position"
   ]
  },
  {
   "cell_type": "code",
   "execution_count": 33,
   "metadata": {},
   "outputs": [
    {
     "name": "stdout",
     "output_type": "stream",
     "text": [
      "\r",
      "                                                                                \r",
      "+------------------+--------------------+\n",
      "|FULL_TIME_POSITION|avg(PREVAILING_WAGE)|\n",
      "+------------------+--------------------+\n",
      "|                 N|   66035.96129032258|\n",
      "|                 Y|   78221.48236692253|\n",
      "+------------------+--------------------+\n",
      "\n"
     ]
    }
   ],
   "source": [
    "val filteredForCertified = h1bDataset.where(\"CASE_STATUS == 'CERTIFIED-WITHDRAWN'\")\n",
    "val groupedFullTimePartTimeCertified = filteredForCertified.groupBy(\"FULL_TIME_POSITION\")\n",
    "groupedFullTimePartTimeCertified.mean(\"PREVAILING_WAGE\").orderBy((\"FULL_TIME_POSITION\")).show"
   ]
  },
  {
   "cell_type": "markdown",
   "metadata": {},
   "source": [
    "Average Prevailing Wage w.r.t type of full time positions for DENIED cases Note:\n",
    "- Y = Full time position\n",
    "- N = Part time position"
   ]
  },
  {
   "cell_type": "code",
   "execution_count": 34,
   "metadata": {},
   "outputs": [
    {
     "name": "stdout",
     "output_type": "stream",
     "text": [
      "\r",
      "                                                                                \r",
      "+------------------+--------------------+\n",
      "|FULL_TIME_POSITION|avg(PREVAILING_WAGE)|\n",
      "+------------------+--------------------+\n",
      "|                 N|   852275.7935064936|\n",
      "|                 Y|   2715372.984379085|\n",
      "+------------------+--------------------+\n",
      "\n"
     ]
    }
   ],
   "source": [
    "val filteredForCertified = h1bDataset.where(\"CASE_STATUS == 'DENIED'\")\n",
    "val groupedFullTimePartTimeCertified = filteredForCertified.groupBy(\"FULL_TIME_POSITION\")\n",
    "groupedFullTimePartTimeCertified.mean(\"PREVAILING_WAGE\").orderBy((\"FULL_TIME_POSITION\")).show"
   ]
  },
  {
   "cell_type": "markdown",
   "metadata": {},
   "source": [
    "Average Prevailing Wage w.r.t type of full time positions for WITHDRAWN cases Note:\n",
    "- Y = Full time position\n",
    "- N = Part time position"
   ]
  },
  {
   "cell_type": "code",
   "execution_count": 35,
   "metadata": {},
   "outputs": [
    {
     "name": "stdout",
     "output_type": "stream",
     "text": [
      "\r",
      "                                                                                \r",
      "+------------------+--------------------+\n",
      "|FULL_TIME_POSITION|avg(PREVAILING_WAGE)|\n",
      "+------------------+--------------------+\n",
      "|                 N|  61462.724799999996|\n",
      "|                 Y|  252976.58237041722|\n",
      "+------------------+--------------------+\n",
      "\n"
     ]
    }
   ],
   "source": [
    "val filteredForCertified = h1bDataset.where(\"CASE_STATUS == 'WITHDRAWN'\")\n",
    "val groupedFullTimePartTimeCertified = filteredForCertified.groupBy(\"FULL_TIME_POSITION\")\n",
    "groupedFullTimePartTimeCertified.mean(\"PREVAILING_WAGE\").orderBy((\"FULL_TIME_POSITION\")).show"
   ]
  },
  {
   "cell_type": "markdown",
   "metadata": {},
   "source": [
    "Number of cases w.r.t to Case Status"
   ]
  },
  {
   "cell_type": "code",
   "execution_count": 36,
   "metadata": {},
   "outputs": [
    {
     "name": "stdout",
     "output_type": "stream",
     "text": [
      "Status: WITHDRAWN\n",
      "Total Count:1707\n",
      "Status: DENIED\n",
      "Total Count:2297\n",
      "Status: CERTIFIED-WITHDRAWN\n",
      "Total Count:4194\n",
      "Status: CERTIFIED\n",
      "Total Count:51799\n"
     ]
    }
   ],
   "source": [
    "println(\"Status: WITHDRAWN\")\n",
    "val filteredForWithdrawn = h1bDataset.where(\"CASE_STATUS == 'WITHDRAWN'\")\n",
    "println(\"Total Count:\"+filteredForWithdrawn.count())\n",
    "println\n",
    "println(\"Status: DENIED\")\n",
    "val filteredForDenied = h1bDataset.where(\"CASE_STATUS == 'DENIED'\")\n",
    "println(\"Total Count:\"+filteredForDenied.count())\n",
    "println\n",
    "println(\"Status: CERTIFIED-WITHDRAWN\")\n",
    "val filteredForCertifiedWithdrawn = h1bDataset.where(\"CASE_STATUS == 'CERTIFIED-WITHDRAWN'\")\n",
    "println(\"Total Count:\"+filteredForCertifiedWithdrawn.count())\n",
    "println\n",
    "println(\"Status: CERTIFIED\")\n",
    "val filteredForCertified = h1bDataset.where(\"CASE_STATUS == 'CERTIFIED'\")\n",
    "println(\"Total Count:\"+filteredForCertified.count())\n"
   ]
  },
  {
   "cell_type": "markdown",
   "metadata": {},
   "source": [
    "Average prevailing wage for certified cases w.r.t Year"
   ]
  },
  {
   "cell_type": "code",
   "execution_count": 37,
   "metadata": {},
   "outputs": [
    {
     "name": "stdout",
     "output_type": "stream",
     "text": [
      "+----+--------------------+\n",
      "|YEAR|avg(PREVAILING_WAGE)|\n",
      "+----+--------------------+\n",
      "|2011|  110322.00291400548|\n",
      "|2012|   68767.10973540958|\n",
      "|2013|   70968.50853971277|\n",
      "|2014|   73186.07684004778|\n",
      "|2015|   64474.71990637732|\n",
      "|2016|  113228.65703598161|\n",
      "+----+--------------------+\n",
      "\n"
     ]
    }
   ],
   "source": [
    "val filteredForCertified = h1bDataset.where(\"CASE_STATUS == 'CERTIFIED'\")\n",
    "val groupedFullTimePartTimeCertified = filteredForCertified.groupBy(\"YEAR\")\n",
    "groupedFullTimePartTimeCertified.mean(\"PREVAILING_WAGE\").orderBy((\"YEAR\")).show"
   ]
  },
  {
   "cell_type": "markdown",
   "metadata": {},
   "source": [
    "Average prevailing wage for Decnied cases w.r.t Year"
   ]
  },
  {
   "cell_type": "code",
   "execution_count": 38,
   "metadata": {},
   "outputs": [
    {
     "name": "stdout",
     "output_type": "stream",
     "text": [
      "+----+--------------------+\n",
      "|YEAR|avg(PREVAILING_WAGE)|\n",
      "+----+--------------------+\n",
      "|2011|  2051230.8475570465|\n",
      "|2012|  1720725.0295406359|\n",
      "|2013|   6749870.377207208|\n",
      "|2014|   5452000.052620321|\n",
      "|2015|  1119775.3016949156|\n",
      "|2016|        1112712.5005|\n",
      "+----+--------------------+\n",
      "\n"
     ]
    }
   ],
   "source": [
    "val filteredForCertified = h1bDataset.where(\"CASE_STATUS == 'DENIED'\")\n",
    "val groupedFullTimePartTimeCertified = filteredForCertified.groupBy(\"YEAR\")\n",
    "groupedFullTimePartTimeCertified.mean(\"PREVAILING_WAGE\").orderBy((\"YEAR\")).show"
   ]
  },
  {
   "cell_type": "markdown",
   "metadata": {},
   "source": [
    "Average prevailing wage for withdrawn cases w.r.t Year"
   ]
  },
  {
   "cell_type": "code",
   "execution_count": 39,
   "metadata": {},
   "outputs": [
    {
     "name": "stdout",
     "output_type": "stream",
     "text": [
      "\r",
      "                                                                                \r",
      "+----+--------------------+\n",
      "|YEAR|avg(PREVAILING_WAGE)|\n",
      "+----+--------------------+\n",
      "|2011|   67701.96151750973|\n",
      "|2012|  477421.13360000006|\n",
      "|2013|   354250.5492753624|\n",
      "|2014|   82546.91132075472|\n",
      "|2015|   373630.5876712328|\n",
      "|2016|  111342.56666666667|\n",
      "+----+--------------------+\n",
      "\n"
     ]
    }
   ],
   "source": [
    "val filteredForCertified = h1bDataset.where(\"CASE_STATUS == 'WITHDRAWN'\")\n",
    "val groupedFullTimePartTimeCertified = filteredForCertified.groupBy(\"YEAR\")\n",
    "groupedFullTimePartTimeCertified.mean(\"PREVAILING_WAGE\").orderBy((\"YEAR\")).show"
   ]
  },
  {
   "cell_type": "markdown",
   "metadata": {},
   "source": [
    "Average prevailing wage for certfied withdrawn cases w.r.t Year"
   ]
  },
  {
   "cell_type": "code",
   "execution_count": 40,
   "metadata": {},
   "outputs": [
    {
     "name": "stdout",
     "output_type": "stream",
     "text": [
      "\r",
      "                                                                                \r",
      "+----+--------------------+\n",
      "|YEAR|avg(PREVAILING_WAGE)|\n",
      "+----+--------------------+\n",
      "|2011|   70823.63130434783|\n",
      "|2012|   65823.00124610591|\n",
      "|2013|    68959.7215940686|\n",
      "|2014|    73142.3408695652|\n",
      "|2015|   69266.35840707964|\n",
      "|2016|  120120.55883905015|\n",
      "+----+--------------------+\n",
      "\n"
     ]
    }
   ],
   "source": [
    "val filteredForCertified = h1bDataset.where(\"CASE_STATUS == 'CERTIFIED-WITHDRAWN'\")\n",
    "val groupedFullTimePartTimeCertified = filteredForCertified.groupBy(\"YEAR\")\n",
    "groupedFullTimePartTimeCertified.mean(\"PREVAILING_WAGE\").orderBy((\"YEAR\")).show"
   ]
  },
  {
   "cell_type": "markdown",
   "metadata": {},
   "source": [
    "Minimum & Maximum prevailing wage for certfied cases"
   ]
  },
  {
   "cell_type": "code",
   "execution_count": 41,
   "metadata": {},
   "outputs": [
    {
     "name": "stdout",
     "output_type": "stream",
     "text": [
      "+--------------------+--------------------+\n",
      "|min(PREVAILING_WAGE)|max(PREVAILING_WAGE)|\n",
      "+--------------------+--------------------+\n",
      "|             14580.8|         3.0604912E8|\n",
      "+--------------------+--------------------+\n",
      "\n"
     ]
    }
   ],
   "source": [
    "val filteredForCertified = h1bDataset.where(\"CASE_STATUS == 'CERTIFIED'\")\n",
    "filteredForCertified.agg(min(\"PREVAILING_WAGE\"), max(\"PREVAILING_WAGE\")).show"
   ]
  },
  {
   "cell_type": "markdown",
   "metadata": {},
   "source": [
    "Minimum & Maximum prevailing wage for certfied-withdrawn cases"
   ]
  },
  {
   "cell_type": "code",
   "execution_count": 42,
   "metadata": {},
   "outputs": [
    {
     "name": "stdout",
     "output_type": "stream",
     "text": [
      "+--------------------+--------------------+\n",
      "|min(PREVAILING_WAGE)|max(PREVAILING_WAGE)|\n",
      "+--------------------+--------------------+\n",
      "|             17347.0|            737692.8|\n",
      "+--------------------+--------------------+\n",
      "\n"
     ]
    }
   ],
   "source": [
    "val filteredForDenied = h1bDataset.where(\"CASE_STATUS == 'CERTIFIED-WITHDRAWN'\")\n",
    "filteredForDenied.agg(min(\"PREVAILING_WAGE\"), max(\"PREVAILING_WAGE\")).show"
   ]
  },
  {
   "cell_type": "markdown",
   "metadata": {},
   "source": [
    "Minimum & Maximum prevailing wage for denied cases"
   ]
  },
  {
   "cell_type": "code",
   "execution_count": 43,
   "metadata": {},
   "outputs": [
    {
     "name": "stdout",
     "output_type": "stream",
     "text": [
      "+--------------------+--------------------+\n",
      "|min(PREVAILING_WAGE)|max(PREVAILING_WAGE)|\n",
      "+--------------------+--------------------+\n",
      "|                 0.0|         4.1031536E8|\n",
      "+--------------------+--------------------+\n",
      "\n"
     ]
    }
   ],
   "source": [
    "val filteredForDenied = h1bDataset.where(\"CASE_STATUS == 'DENIED'\")\n",
    "filteredForDenied.agg(min(\"PREVAILING_WAGE\"), max(\"PREVAILING_WAGE\")).show"
   ]
  },
  {
   "cell_type": "markdown",
   "metadata": {},
   "source": [
    "Minimum & Maximum prevailing wage for withdrawn cases"
   ]
  },
  {
   "cell_type": "code",
   "execution_count": 44,
   "metadata": {},
   "outputs": [
    {
     "name": "stdout",
     "output_type": "stream",
     "text": [
      "+--------------------+--------------------+\n",
      "|min(PREVAILING_WAGE)|max(PREVAILING_WAGE)|\n",
      "+--------------------+--------------------+\n",
      "|             15226.0|         1.0184304E8|\n",
      "+--------------------+--------------------+\n",
      "\n"
     ]
    }
   ],
   "source": [
    "val filteredForDenied = h1bDataset.where(\"CASE_STATUS == 'WITHDRAWN'\")\n",
    "filteredForDenied.agg(min(\"PREVAILING_WAGE\"), max(\"PREVAILING_WAGE\")).show"
   ]
  },
  {
   "cell_type": "markdown",
   "metadata": {},
   "source": [
    "Minimum & Maximum prevailing wage for CERTIFIED cases every year"
   ]
  },
  {
   "cell_type": "code",
   "execution_count": 45,
   "metadata": {},
   "outputs": [
    {
     "name": "stdout",
     "output_type": "stream",
     "text": [
      "+----+--------------------+--------------------+\n",
      "|YEAR|min(PREVAILING_WAGE)|max(PREVAILING_WAGE)|\n",
      "+----+--------------------+--------------------+\n",
      "|2015|             18680.0|            249434.0|\n",
      "|2013|             15226.0|           373117.92|\n",
      "|2014|             14580.8|            242154.0|\n",
      "|2012|             18010.0|            311034.0|\n",
      "|2016|             15080.0|            631700.0|\n",
      "|2011|             17347.0|         3.0604912E8|\n",
      "+----+--------------------+--------------------+\n",
      "\n"
     ]
    }
   ],
   "source": [
    "val filteredForCertified = h1bDataset.where(\"CASE_STATUS == 'CERTIFIED'\")\n",
    "val groupedFullTimePartTimeCertified = filteredForCertified.groupBy(\"YEAR\")\n",
    "groupedFullTimePartTimeCertified.agg(min(\"PREVAILING_WAGE\"), max(\"PREVAILING_WAGE\")).show"
   ]
  },
  {
   "cell_type": "markdown",
   "metadata": {},
   "source": [
    "Minimum & Maximum prevailing wage for CERTIFIED-WITHDRAWN cases every year"
   ]
  },
  {
   "cell_type": "code",
   "execution_count": 46,
   "metadata": {},
   "outputs": [
    {
     "name": "stdout",
     "output_type": "stream",
     "text": [
      "+----+--------------------+--------------------+\n",
      "|YEAR|min(PREVAILING_WAGE)|max(PREVAILING_WAGE)|\n",
      "+----+--------------------+--------------------+\n",
      "|2015|             26978.0|            232565.0|\n",
      "|2013|             17347.0|            207106.0|\n",
      "|2014|             21715.2|            207709.0|\n",
      "|2012|             17347.0|            737692.8|\n",
      "|2016|             33092.8|            252637.0|\n",
      "|2011|             24107.0|            195499.0|\n",
      "+----+--------------------+--------------------+\n",
      "\n"
     ]
    }
   ],
   "source": [
    "val filteredForCertified = h1bDataset.where(\"CASE_STATUS == 'CERTIFIED-WITHDRAWN'\")\n",
    "val groupedFullTimePartTimeCertified = filteredForCertified.groupBy(\"YEAR\")\n",
    "groupedFullTimePartTimeCertified.agg(min(\"PREVAILING_WAGE\"), max(\"PREVAILING_WAGE\")).show"
   ]
  },
  {
   "cell_type": "markdown",
   "metadata": {},
   "source": [
    "Minimum & Maximum prevailing wage for DENIED cases every year"
   ]
  },
  {
   "cell_type": "code",
   "execution_count": 47,
   "metadata": {},
   "outputs": [
    {
     "name": "stdout",
     "output_type": "stream",
     "text": [
      "+----+--------------------+--------------------+\n",
      "|YEAR|min(PREVAILING_WAGE)|max(PREVAILING_WAGE)|\n",
      "+----+--------------------+--------------------+\n",
      "|2015|             20634.0|          1.876368E8|\n",
      "|2013|             18720.0|         4.1031536E8|\n",
      "|2014|             20800.0|         1.5220192E8|\n",
      "|2012|             18054.4|         2.3665408E8|\n",
      "|2016|                 0.0|          3.291392E8|\n",
      "|2011|             17680.0|         1.6453216E8|\n",
      "+----+--------------------+--------------------+\n",
      "\n"
     ]
    }
   ],
   "source": [
    "val filteredForCertified = h1bDataset.where(\"CASE_STATUS == 'DENIED'\")\n",
    "val groupedFullTimePartTimeCertified = filteredForCertified.groupBy(\"YEAR\")\n",
    "groupedFullTimePartTimeCertified.agg(min(\"PREVAILING_WAGE\"), max(\"PREVAILING_WAGE\")).show"
   ]
  },
  {
   "cell_type": "markdown",
   "metadata": {},
   "source": [
    "Minimum & Maximum prevailing wage for WITHDRAWN cases every year"
   ]
  },
  {
   "cell_type": "code",
   "execution_count": 48,
   "metadata": {},
   "outputs": [
    {
     "name": "stdout",
     "output_type": "stream",
     "text": [
      "+----+--------------------+--------------------+\n",
      "|YEAR|min(PREVAILING_WAGE)|max(PREVAILING_WAGE)|\n",
      "+----+--------------------+--------------------+\n",
      "|2015|             29328.0|          8.960016E7|\n",
      "|2013|             15226.0|          7.900048E7|\n",
      "|2014|             24003.0|            890000.0|\n",
      "|2012|             27081.6|         1.0184304E8|\n",
      "|2016|             32635.0|            235165.0|\n",
      "|2011|             20384.0|            186056.0|\n",
      "+----+--------------------+--------------------+\n",
      "\n"
     ]
    }
   ],
   "source": [
    "val filteredForCertified = h1bDataset.where(\"CASE_STATUS == 'WITHDRAWN'\")\n",
    "val groupedFullTimePartTimeCertified = filteredForCertified.groupBy(\"YEAR\")\n",
    "groupedFullTimePartTimeCertified.agg(min(\"PREVAILING_WAGE\"), max(\"PREVAILING_WAGE\")).show"
   ]
  },
  {
   "cell_type": "code",
   "execution_count": null,
   "metadata": {
    "collapsed": true
   },
   "outputs": [],
   "source": []
  },
  {
   "cell_type": "code",
   "execution_count": null,
   "metadata": {
    "collapsed": true
   },
   "outputs": [],
   "source": []
  }
 ],
 "metadata": {
  "kernelspec": {
   "display_name": "Apache Toree - Scala",
   "language": "scala",
   "name": "apache_toree_scala"
  },
  "language_info": {
   "file_extension": ".scala",
   "name": "scala",
   "version": "2.11.8"
  }
 },
 "nbformat": 4,
 "nbformat_minor": 2
}
